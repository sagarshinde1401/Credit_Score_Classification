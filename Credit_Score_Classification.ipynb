{
  "cells": [
    {
      "cell_type": "code",
      "execution_count": null,
      "metadata": {
        "colab": {
          "base_uri": "https://localhost:8080/",
          "height": 386
        },
        "id": "yJCiCgI5Ca-p",
        "outputId": "115dfda0-cba2-420a-fa21-36ab72bc165e"
      },
      "outputs": [],
      "source": [
        "import pandas as pd\n",
        "import numpy as np\n",
        "import plotly.express as px\n",
        "import plotly.graph_objects as go\n",
        "import plotly.io as pio\n",
        "import matplotlib.pyplot as plt\n",
        "import seaborn as sns \n",
        "from sklearn.metrics import accuracy_score\n",
        "\n",
        "pio.templates.default = \"plotly_white\"\n",
        "\n",
        "df = pd.read_csv(\"D:/Machine Learning Projects/Credit Score Classification/train.csv\")\n",
        "df.head()"
      ]
    },
    {
      "cell_type": "code",
      "execution_count": null,
      "metadata": {
        "colab": {
          "base_uri": "https://localhost:8080/"
        },
        "id": "yFoVxTDwCa-t",
        "outputId": "94bdcf25-a7d1-4489-ef1b-90ce4e9fb4e2"
      },
      "outputs": [],
      "source": [
        "df.info()"
      ]
    },
    {
      "cell_type": "code",
      "execution_count": null,
      "metadata": {
        "colab": {
          "base_uri": "https://localhost:8080/"
        },
        "id": "5e8avnUGCa-u",
        "outputId": "9454b2cc-8a0d-4ced-a728-9150c4c4e281"
      },
      "outputs": [],
      "source": [
        "df.isnull().sum()"
      ]
    },
    {
      "attachments": {},
      "cell_type": "markdown",
      "metadata": {
        "id": "lmRD3BEcCa-v"
      },
      "source": [
        "Data set does not have any null values\n"
      ]
    },
    {
      "cell_type": "code",
      "execution_count": null,
      "metadata": {
        "colab": {
          "base_uri": "https://localhost:8080/"
        },
        "id": "cyQpc3RZCa-x",
        "outputId": "dfb31554-54f2-4e5e-8611-d1e453232b62"
      },
      "outputs": [],
      "source": [
        "df[\"Credit_Score\"].value_counts()\n"
      ]
    },
    {
      "cell_type": "code",
      "execution_count": null,
      "metadata": {
        "colab": {
          "base_uri": "https://localhost:8080/",
          "height": 542
        },
        "id": "FhH2G1WbCa-y",
        "outputId": "823f8386-4410-4edb-94db-564e1437983d"
      },
      "outputs": [],
      "source": [
        "\n",
        "fig = px.box(df, \n",
        "             y=\"Occupation\",  \n",
        "             color=\"Credit_Score\", \n",
        "             title=\"Credit Scores Based on Occupation\", \n",
        "             color_discrete_map={'Poor':'red',\n",
        "                                 'Standard':'yellow',\n",
        "                                 'Good':'green'})\n",
        "fig.show()"
      ]
    },
    {
      "cell_type": "code",
      "execution_count": null,
      "metadata": {
        "colab": {
          "base_uri": "https://localhost:8080/",
          "height": 542
        },
        "id": "vjKraUOcCa-y",
        "outputId": "8f2eddde-abca-4373-e5e6-558f8afce191"
      },
      "outputs": [],
      "source": [
        "fig = px.box(df, \n",
        "             y=\"Annual_Income\",  \n",
        "             color=\"Credit_Score\", \n",
        "             title=\"Credit Scores Based Annual_Income\", \n",
        "             color_discrete_map={'Poor':'red',\n",
        "                                 'Standard':'yellow',\n",
        "                                 'Good':'green'})\n",
        "fig.show()"
      ]
    },
    {
      "cell_type": "code",
      "execution_count": null,
      "metadata": {
        "colab": {
          "base_uri": "https://localhost:8080/",
          "height": 542
        },
        "id": "TWV1Jk4nCa-z",
        "outputId": "233f4b16-01f8-4d6a-b73b-581e0581fd3f"
      },
      "outputs": [],
      "source": [
        "fig = px.box(df, \n",
        "             y=\"Monthly_Inhand_Salary\",  \n",
        "             color=\"Credit_Score\", \n",
        "             title=\"Credit Scores Based on Monthly_Inhand_Salary\", \n",
        "             color_discrete_map={'Poor':'red',\n",
        "                                 'Standard':'yellow',\n",
        "                                 'Good':'green'})\n",
        "fig.show()"
      ]
    },
    {
      "cell_type": "code",
      "execution_count": null,
      "metadata": {
        "colab": {
          "base_uri": "https://localhost:8080/",
          "height": 542
        },
        "id": "Ig03EoDNCa-0",
        "outputId": "d579162f-afe9-4ed0-c215-ffef2723147c"
      },
      "outputs": [],
      "source": [
        "fig = px.box(df, \n",
        "             y=\"Num_Bank_Accounts\",  \n",
        "             color=\"Credit_Score\", \n",
        "             title=\"Credit Scores Based on Num_Bank_Accounts\", \n",
        "             color_discrete_map={'Poor':'red',\n",
        "                                 'Standard':'yellow',\n",
        "                                 'Good':'green'})\n",
        "fig.show()"
      ]
    },
    {
      "cell_type": "code",
      "execution_count": null,
      "metadata": {
        "colab": {
          "base_uri": "https://localhost:8080/",
          "height": 542
        },
        "id": "60k-oUqfCa-0",
        "outputId": "94e2d532-f121-4e29-d5e0-37e2f59d3cca"
      },
      "outputs": [],
      "source": [
        "fig = px.box(df, \n",
        "             y=\"Num_Credit_Card\",  \n",
        "             color=\"Credit_Score\", \n",
        "             title=\"Credit Scores Based on Num_Credit_Card\", \n",
        "             color_discrete_map={'Poor':'red',\n",
        "                                 'Standard':'yellow',\n",
        "                                 'Good':'green'})\n",
        "fig.show()"
      ]
    },
    {
      "cell_type": "code",
      "execution_count": null,
      "metadata": {
        "colab": {
          "base_uri": "https://localhost:8080/",
          "height": 542
        },
        "id": "gV3N0_1WCa-1",
        "outputId": "00e4ec2a-9ced-4206-abca-53b37877c580"
      },
      "outputs": [],
      "source": [
        "fig = px.box(df, \n",
        "             y=\"Interest_Rate\",  \n",
        "             color=\"Credit_Score\", \n",
        "             title=\"Credit Scores Based on Interest_Rate\", \n",
        "             color_discrete_map={'Poor':'red',\n",
        "                                 'Standard':'yellow',\n",
        "                                 'Good':'green'})\n",
        "fig.show()"
      ]
    },
    {
      "cell_type": "code",
      "execution_count": null,
      "metadata": {
        "colab": {
          "base_uri": "https://localhost:8080/",
          "height": 542
        },
        "id": "pNa5zB-wCa-2",
        "outputId": "b56e98a5-c9b7-426a-d5af-14c4c1e36873"
      },
      "outputs": [],
      "source": [
        "fig = px.box(df, \n",
        "             y=\"Num_of_Loan\",  \n",
        "             color=\"Credit_Score\", \n",
        "             title=\"Credit Scores Based on Num_of_Loan\", \n",
        "             color_discrete_map={'Poor':'red',\n",
        "                                 'Standard':'yellow',\n",
        "                                 'Good':'green'})\n",
        "fig.show()"
      ]
    },
    {
      "cell_type": "code",
      "execution_count": null,
      "metadata": {
        "colab": {
          "base_uri": "https://localhost:8080/",
          "height": 542
        },
        "id": "3SU4QheKCa-3",
        "outputId": "ce4753de-27da-46a9-fea2-99e898b2f1b4"
      },
      "outputs": [],
      "source": [
        "fig = px.box(df, y =\"Delay_from_due_date\",\n",
        "             color = \"Credit_Score\",\n",
        "             title = \"Credit Score based on Delay from due date\",\n",
        "             color_discrete_map={'Poor':'red',\n",
        "                                 'Standard':'yellow',\n",
        "                                 'Good':'green'})\n",
        "fig.show()"
      ]
    },
    {
      "cell_type": "code",
      "execution_count": null,
      "metadata": {
        "colab": {
          "base_uri": "https://localhost:8080/",
          "height": 542
        },
        "id": "TLaKdD8_Ca-3",
        "outputId": "4b42898d-a22f-457e-f350-bdc3bdc21f87"
      },
      "outputs": [],
      "source": [
        "fig = px.box(df, y = \"Num_of_Delayed_Payment\",\n",
        "             color = \"Credit_Score\",\n",
        "             title = \"Credit Score based on Num_of_Delayed_Payment\",\n",
        "             color_discrete_map={'Poor':'red',\n",
        "                                 'Standard':'yellow',\n",
        "                                 'Good': 'green'}\n",
        "             )\n",
        "fig.show()"
      ]
    },
    {
      "cell_type": "code",
      "execution_count": null,
      "metadata": {
        "colab": {
          "base_uri": "https://localhost:8080/",
          "height": 542
        },
        "id": "cU2347AeCa-4",
        "outputId": "7ff3f9eb-2158-49d1-eada-fcf384c4259c"
      },
      "outputs": [],
      "source": [
        "fig = px.box(df, y =\"Changed_Credit_Limit\",\n",
        "             color=\"Credit_Score\",\n",
        "             title=\"Credit core Based on Changed_Credit_Limit\",\n",
        "             color_discrete_map={'Poor':'red',\n",
        "                                 'Standard':'yellow',\n",
        "                                 'Good':'green'})\n",
        "fig.show()"
      ]
    },
    {
      "cell_type": "code",
      "execution_count": null,
      "metadata": {
        "colab": {
          "base_uri": "https://localhost:8080/",
          "height": 542
        },
        "id": "3DXrVdoQCa-4",
        "outputId": "1cd2e866-3cf0-449a-9427-77ae97807c9f"
      },
      "outputs": [],
      "source": [
        "fig = px.box(df, y =\"Num_Credit_Inquiries\",\n",
        "             color=\"Credit_Score\",\n",
        "             title=\"Credit core Based on Num_Credit_Inquiries\",\n",
        "             color_discrete_map={'Poor':'red',\n",
        "                                 'Standard':'yellow',\n",
        "                                 'Good':'green'})\n",
        "fig.show()"
      ]
    },
    {
      "cell_type": "code",
      "execution_count": null,
      "metadata": {
        "colab": {
          "base_uri": "https://localhost:8080/",
          "height": 542
        },
        "id": "FSPg_xGTCa-5",
        "outputId": "5b654ac6-bd22-497e-dfff-da98693082ff"
      },
      "outputs": [],
      "source": [
        "fig = px.box(df, y =\"Outstanding_Debt\",\n",
        "             color=\"Credit_Score\",\n",
        "             title=\"Credit core Based on Outstanding_Debt\",\n",
        "             color_discrete_map={'Poor':'red',\n",
        "                                 'Standard':'yellow',\n",
        "                                 'Good':'green'})\n",
        "fig.show()"
      ]
    },
    {
      "cell_type": "code",
      "execution_count": null,
      "metadata": {
        "colab": {
          "base_uri": "https://localhost:8080/",
          "height": 542
        },
        "id": "1Czv-wkLCa-6",
        "outputId": "80a54c20-34e3-46ca-b1e0-c5ecd2e01b7d"
      },
      "outputs": [],
      "source": [
        "fig = px.box(df, y =\"Credit_Utilization_Ratio\",\n",
        "             color=\"Credit_Score\",\n",
        "             title=\"Credit core Based on Credit_Utilization_Ratio\",\n",
        "             color_discrete_map={'Poor':'red',\n",
        "                                 'Standard':'yellow',\n",
        "                                 'Good':'green'})\n",
        "fig.show()"
      ]
    },
    {
      "cell_type": "code",
      "execution_count": null,
      "metadata": {
        "colab": {
          "base_uri": "https://localhost:8080/",
          "height": 542
        },
        "id": "GR6EkOwMCa-6",
        "outputId": "80291ce6-4f90-4c5f-a7af-04ae42d20b69"
      },
      "outputs": [],
      "source": [
        "fig = px.box(df, y =\"Credit_History_Age\",\n",
        "             color=\"Credit_Score\",\n",
        "             title=\"Credit core Based on Credit_History_Age\",\n",
        "             color_discrete_map={'Poor':'red',\n",
        "                                 'Standard':'yellow',\n",
        "                                 'Good':'green'})\n",
        "fig.show()"
      ]
    },
    {
      "cell_type": "code",
      "execution_count": null,
      "metadata": {
        "colab": {
          "base_uri": "https://localhost:8080/",
          "height": 542
        },
        "id": "7E4NupLHCa-7",
        "outputId": "090044d7-91a7-4cbf-eb0d-45377809502a"
      },
      "outputs": [],
      "source": [
        "fig = px.box(df, y =\"Total_EMI_per_month\",\n",
        "             color=\"Credit_Score\",\n",
        "             title=\"Credit core Based on Total_EMI_per_month\",\n",
        "             color_discrete_map={'Poor':'red',\n",
        "                                 'Standard':'yellow',\n",
        "                                 'Good':'green'})\n",
        "fig.show()"
      ]
    },
    {
      "cell_type": "code",
      "execution_count": null,
      "metadata": {
        "colab": {
          "base_uri": "https://localhost:8080/",
          "height": 542
        },
        "id": "ZWv05vmVCa-7",
        "outputId": "860eedb4-ae57-4fed-b9de-6db5a6c9d3b8"
      },
      "outputs": [],
      "source": [
        "fig = px.box(df, y =\"Amount_invested_monthly\",\n",
        "             color=\"Credit_Score\",\n",
        "             title=\"Credit core Based on Amount_invested_monthly\",\n",
        "             color_discrete_map={'Poor':'red',\n",
        "                                 'Standard':'yellow',\n",
        "                                 'Good':'green'})\n",
        "fig.show()"
      ]
    },
    {
      "cell_type": "code",
      "execution_count": null,
      "metadata": {
        "colab": {
          "base_uri": "https://localhost:8080/",
          "height": 542
        },
        "id": "2pfHWbkvCa-8",
        "outputId": "479afc26-60c6-4b3b-b9a7-690b78563328"
      },
      "outputs": [],
      "source": [
        "fig = px.box(df, y =\"Monthly_Balance\",\n",
        "             color=\"Credit_Score\",\n",
        "             title=\"Credit core Based on Monthly Balance Left\",\n",
        "             color_discrete_map={'Poor':'red',\n",
        "                                 'Standard':'yellow',\n",
        "                                 'Good':'green'})\n",
        "fig.show()"
      ]
    },
    {
      "cell_type": "code",
      "execution_count": null,
      "metadata": {
        "colab": {
          "base_uri": "https://localhost:8080/"
        },
        "id": "rYQlISjLCa-8",
        "outputId": "01e929c8-cc7e-4336-a41d-ca86dc06b761"
      },
      "outputs": [],
      "source": [
        "print(df[\"Credit_Mix\"].value_counts())\n",
        "\n",
        "print(df[\"Credit_Score\"].value_counts())"
      ]
    },
    {
      "cell_type": "code",
      "execution_count": null,
      "metadata": {
        "id": "iH-RhhY6Ca-8"
      },
      "outputs": [],
      "source": [
        "#Credit Mix feature tells about the type of credits and loan you have teken. conver it categorical to numericalfeature\n",
        "\n",
        "df[\"Credit_Mix\"] = df[\"Credit_Mix\"].map({\"Standard\": 1, \"Good\": 2,\"Bad\":0})\n"
      ]
    },
    {
      "attachments": {},
      "cell_type": "markdown",
      "metadata": {
        "id": "FZ61selPCa-9"
      },
      "source": [
        "Now Split the data into features and lables by selecting the featuers we found imp for our model. "
      ]
    },
    {
      "attachments": {},
      "cell_type": "markdown",
      "metadata": {
        "id": "wzs05cPTCa-9"
      },
      "source": [
        "Select teh Input Fearures from analyzing the data that affect credit score from below:\n",
        "\"Annual_Income\",\"Monthly_Inhand_Salary\",\"Num_Bank_Accounts\", \"Num_Credit_Card\", \"Interest_Rate\", \"Num_of_Loan\", \"Delay_from_due_date\", \"Num_of_Delayed_Payment\", \"Changed_Credit_Limit\", \"Num_Credit_Inquiries\", \"Outstanding_Debt\", \"Credit_Utilization_Ratio\",\"Credit_History_Age\",\"Total_EMI_per_month\", \"Amount_invested_monthly\", \"Monthly_Balance\",\"Credit_Mix\"\n",
        "\n"
      ]
    },
    {
      "cell_type": "code",
      "execution_count": null,
      "metadata": {
        "id": "6wpeIdQvCa--"
      },
      "outputs": [],
      "source": [
        "from sklearn.model_selection import train_test_split\n",
        "\n",
        "x = np.array(df[[\"Annual_Income\",\n",
        "                 \"Monthly_Inhand_Salary\",\n",
        "                 \"Num_Bank_Accounts\",\n",
        "                 \"Num_Credit_Card\",\n",
        "                 \"Interest_Rate\",\n",
        "                 \"Num_of_Loan\",\n",
        "                 \"Delay_from_due_date\",\n",
        "                 \"Num_of_Delayed_Payment\",\n",
        "                 \"Credit_Mix\",\n",
        "                 \"Outstanding_Debt\",\n",
        "                 \"Credit_History_Age\",\n",
        "                 \"Monthly_Balance\"]])\n",
        "\n",
        "y = np.array(df[[\"Credit_Score\"]])"
      ]
    },
    {
      "cell_type": "code",
      "execution_count": null,
      "metadata": {
        "colab": {
          "base_uri": "https://localhost:8080/"
        },
        "id": "YL0dXTxxCa--",
        "outputId": "fb2559a0-50c5-4dd5-e8f4-692455d73e47"
      },
      "outputs": [],
      "source": [
        "#split the data into training and testing and train a classification model \n",
        "xtrain, xtest, ytrain, ytest = train_test_split(x, y, test_size = 0.25, random_state=30)\n",
        "#Random Forest Classifier\n",
        "from sklearn.ensemble import RandomForestClassifier\n",
        "model_1 = RandomForestClassifier()\n",
        "model_1.fit(xtrain, ytrain)\n",
        "ypred_1 = model_1.predict(xtest)\n",
        "#Lets measure accuracy of the model using accuracy matrics. \n",
        "accuracy = accuracy_score(ytest, ypred_1)\n",
        "print(\"Accuracy:\", accuracy)"
      ]
    },
    {
      "cell_type": "code",
      "execution_count": null,
      "metadata": {
        "colab": {
          "base_uri": "https://localhost:8080/"
        },
        "id": "Veken2m9gu4f",
        "outputId": "63d7f2a4-e7e1-430c-e6b4-953f2cbc8b86"
      },
      "outputs": [],
      "source": [
        "#decision Tree Classifier\n",
        "from sklearn.tree import DecisionTreeClassifier\n",
        "model_2 = DecisionTreeClassifier(criterion='gini', max_depth=3, random_state=0)\n",
        "model_2.fit(xtrain, ytrain)\n",
        "y_pred2 = model_2.predict(xtest)\n",
        "accuracy_2 = accuracy_score(ytest, y_pred2)\n",
        "print(accuracy_2)\n"
      ]
    },
    {
      "cell_type": "code",
      "execution_count": null,
      "metadata": {
        "colab": {
          "base_uri": "https://localhost:8080/"
        },
        "id": "VBipHiK1pJxA",
        "outputId": "04cd09e8-8625-461d-ceb8-02b192a27ac7"
      },
      "outputs": [],
      "source": [
        "#Naive Bayes Classifier\n",
        "from sklearn.naive_bayes import GaussianNB\n",
        "model_3 = GaussianNB()\n",
        "model_3.fit(xtrain, ytrain)\n",
        "y_pred3 = model_3.predict(xtest)\n",
        "accuracy_3 = accuracy_score(ytest, y_pred3)\n",
        "print(accuracy_3)\n"
      ]
    },
    {
      "cell_type": "code",
      "execution_count": null,
      "metadata": {
        "id": "ZhualKK0uJVz"
      },
      "outputs": [],
      "source": [
        "#Random forest classifier has high accuraccy which is 0.80896 "
      ]
    },
    {
      "cell_type": "code",
      "execution_count": null,
      "metadata": {
        "colab": {
          "base_uri": "https://localhost:8080/"
        },
        "id": "o4MPhfnVCa-_",
        "outputId": "3f3354b9-7730-45c8-adb6-a4af297df771"
      },
      "outputs": [],
      "source": [
        "#Now lets make Predictions\n",
        "print(\"Lets Classify the score: \")\n",
        "a = float(input(\"Annual_Income:\"))\n",
        "b = float(input(\"Monthly_Inhand_Salary:\"))\n",
        "c = float(input(\"Num_Bank_Accounts:\"))\n",
        "d = float(input(\"Num_Credit_Card:\"))\n",
        "e = float(input(\"Interest_Rate:\"))\n",
        "f = float(input(\"Num_of_Loan:\"))\n",
        "g = float(input(\"Delay_from_due_date:\"))\n",
        "h = float(input(\"Num_of_Delayed_Payment:\"))\n",
        "i = float(input(\"Credit_Mix:\"))\n",
        "j = float(input(\"Outstanding_Debt:\"))\n",
        "k = float(input(\"Credit_History_Age:\"))\n",
        "l = float(input(\"Monthly_Balance\"))\n",
        "print(\"Features are Given... Please wait...\")\n",
        "input_features = np.array([[a,b,c,d,e,f,g,h,i,j,k,l]])\n",
        "print(\"Predicted Credit Score: \", model_1.predict(input_features))"
      ]
    }
  ],
  "metadata": {
    "colab": {
      "provenance": []
    },
    "kernelspec": {
      "display_name": "Python 3",
      "language": "python",
      "name": "python3"
    },
    "language_info": {
      "codemirror_mode": {
        "name": "ipython",
        "version": 3
      },
      "file_extension": ".py",
      "mimetype": "text/x-python",
      "name": "python",
      "nbconvert_exporter": "python",
      "pygments_lexer": "ipython3",
      "version": "3.8.0"
    }
  },
  "nbformat": 4,
  "nbformat_minor": 0
}
